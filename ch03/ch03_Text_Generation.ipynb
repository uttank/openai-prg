{
 "cells": [
  {
   "cell_type": "code",
   "execution_count": null,
   "id": "833f6099",
   "metadata": {},
   "outputs": [],
   "source": [
    "import openai\n",
    "import os\n",
    "from dotenv import load_dotenv\n",
    "\n",
    "# .env 파일에서 환경 변수를 불러옵니다.\n",
    "load_dotenv()\n",
    "\n",
    "# os.getenv() 함수를 이용해 API 키를 변수에 저장합니다.\n",
    "openai_api_key = os.getenv(\"OPENAI_API_KEY\")\n",
    "if openai_api_key is None:\n",
    "    raise ValueError(\"OPENAI_API_KEY 환경 변수가 설정되어 있지 않습니다.\")\n",
    "openai.api_key = openai_api_key\n",
    "\n",
    "client = openai.OpenAI(api_key=openai_api_key)\n",
    "# OpenAI API 클라이언트를 초기화합니다.\n",
    "\n",
    "response = client.chat.completions.create(\n",
    "    model=\"gpt-4.1-mini\",  # 사용할 모델을 지정합니다.\n",
    "    messages=[\n",
    "        {\n",
    "            \"role\": \"system\",\n",
    "            \"content\": \"You are a helpful assistant.\"\n",
    "        },\n",
    "        {\n",
    "            \"role\": \"user\",\n",
    "            \"content\": \"Hello, how can you assist me today?\"\n",
    "        }\n",
    "    ]\n",
    ")"
   ]
  }
 ],
 "metadata": {
  "kernelspec": {
   "display_name": "ch03_env",
   "language": "python",
   "name": "python3"
  },
  "language_info": {
   "codemirror_mode": {
    "name": "ipython",
    "version": 3
   },
   "file_extension": ".py",
   "mimetype": "text/x-python",
   "name": "python",
   "nbconvert_exporter": "python",
   "pygments_lexer": "ipython3",
   "version": "3.11.5"
  }
 },
 "nbformat": 4,
 "nbformat_minor": 5
}
