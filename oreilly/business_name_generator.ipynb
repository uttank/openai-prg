{
 "cells": [
  {
   "cell_type": "code",
   "execution_count": 1,
   "id": "8e6f80d6",
   "metadata": {},
   "outputs": [
    {
     "name": "stdout",
     "output_type": "stream",
     "text": [
      "Note: you may need to restart the kernel to use updated packages.\n",
      "Generated Business Names:\n",
      "==============================\n",
      "1. MedAI Sum\n",
      "2. DocSynth\n",
      "3. SummarizeMed\n",
      "4. AI Health Brief\n",
      "5. RecordSummar.AI\n",
      "Generated Business Names:\n",
      "==============================\n",
      "1. MedAI Sum\n",
      "2. DocSynth\n",
      "3. SummarizeMed\n",
      "4. AI Health Brief\n",
      "5. RecordSummar.AI\n"
     ]
    }
   ],
   "source": [
    "%pip install -q langchain langchain-openai python-dotenv\n",
    "\n",
    "import os\n",
    "from dotenv import load_dotenv\n",
    "# This script loads environment variables from a .env file\n",
    "load_dotenv()\n",
    "# os.getenv() 함수를 이용해 API 키를 변수에 저장합니다.\n",
    "openai_api_key = os.getenv(\"OPENAI_API_KEY\")\n",
    "\n",
    "from langchain_openai.chat_models import ChatOpenAI\n",
    "from langchain_core.prompts import (SystemMessagePromptTemplate,ChatPromptTemplate,)\n",
    "\n",
    "template = \"\"\"\n",
    "You are a creative consultant brainstorming names for businesses.\n",
    "You must follow the following principles:\n",
    "{principles}\n",
    "Please generate a numerical list of 5 catchy names for a start-up in the {industry} industry that deals wiht {context} ?\n",
    "Here are some examples of names:\n",
    "1. Name1\n",
    "2. Name2\n",
    "3. Name3\n",
    "4. Name4\n",
    "5. Name5\n",
    "\"\"\"\n",
    "\n",
    "model = ChatOpenAI()\n",
    "system_prompt = SystemMessagePromptTemplate.from_template(template)\n",
    "chat_prompt = ChatPromptTemplate.from_messages([system_prompt])\n",
    "\n",
    "chain = chat_prompt | model\n",
    "\n",
    "# 비즈니스 네임 생성\n",
    "result = chain.invoke({\n",
    "    \"principles\": '''1. Each name should be short and easy to remember.\n",
    "    2. Each name should be easy to pronounce.\n",
    "    3. Each name should be unique and not too similar to existing companies.''',\n",
    "    \"industry\": \"medical\",\n",
    "    \"context\": \"creating AI solutions by automatically summarizing patient records.\"\n",
    "})\n",
    "\n",
    "# 결과 출력\n",
    "print(\"Generated Business Names:\")\n",
    "print(\"=\" * 30)\n",
    "print(result.content)"
   ]
  }
 ],
 "metadata": {
  "kernelspec": {
   "display_name": "venv",
   "language": "python",
   "name": "python3"
  },
  "language_info": {
   "codemirror_mode": {
    "name": "ipython",
    "version": 3
   },
   "file_extension": ".py",
   "mimetype": "text/x-python",
   "name": "python",
   "nbconvert_exporter": "python",
   "pygments_lexer": "ipython3",
   "version": "3.11.5"
  }
 },
 "nbformat": 4,
 "nbformat_minor": 5
}
