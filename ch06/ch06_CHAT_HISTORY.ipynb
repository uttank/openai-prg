{
 "cells": [
  {
   "cell_type": "code",
   "execution_count": null,
   "id": "cd0f49c3",
   "metadata": {},
   "outputs": [
    {
     "name": "stdout",
     "output_type": "stream",
     "text": [
      "저는 여러 연구자와 개발자들이 협력하여 만든 인공지능입니다. 다양한 데이터와 알고리즘을 통해 학습하고 발전해왔어요. 당신은 어떤 것에 대해 궁금하신가요?\n"
     ]
    }
   ],
   "source": [
    "from langchain_openai import ChatOpenAI\n",
    "from langchain_core.prompts import PromptTemplate\n",
    "from langchain_core.runnables.history import RunnableWithMessageHistory\n",
    "from langchain_core.tracers.stdout import ConsoleCallbackHandler\n",
    "from langchain_community.chat_message_histories import ChatMessageHistory\n",
    "import os\n",
    "from dotenv import load_dotenv\n",
    "# .env 파일에서 환경 변수를 불러옵니다.\n",
    "load_dotenv()\n",
    "# os.getenv() 함수를 이용해 API 키를 변수에 저장합니다.\n",
    "openai_api_key = os.getenv(\"OPENAI_API_KEY\")\n",
    "\n",
    "llm = ChatOpenAI(\n",
    "    model=\"gpt-4o-mini\",\n",
    "    temperature=0.1,\n",
    "    max_completion_tokens=1000,\n",
    ")\n",
    "\n",
    "template = \"\"\"\n",
    "    아래는 사람과 AI의 친근한 대화입니다. AI의 이름은 위키북스봇입니다. 대화 문맥을 바탕으로 친절한 답변을 진해하세요.\n",
    "    \n",
    "    Current conversation:\n",
    "    {history}\n",
    "    \n",
    "    Human: {input}\n",
    "    AI:\"\"\"\n",
    "prompt = PromptTemplate(\n",
    "    template=template,\n",
    "    input_variables=[\"history\", \"input\"],\n",
    ")\n",
    "\n",
    "llm_chain = prompt | llm\n",
    "\n",
    "store = {}\n",
    "session_id = \"test\"\n",
    "if session_id not in store:\n",
    "    store[session_id] = ChatMessageHistory()\n",
    "session_history = store[session_id]\n",
    "\n",
    "with_message_history = RunnableWithMessageHistory(\n",
    "    llm_chain,\n",
    "    lambda session_id:session_history,\n",
    "    input_messages_key=\"input\",\n",
    "    history_messages_key=\"history\",)\n",
    "\n",
    "result = with_message_history.invoke(\n",
    "    {\"input\":\"당신은 어디에서 만들었습니까?\"},\n",
    "    config={\"configurable\":{\"session_id\": \"test\"}},)\n",
    "     \n",
    "print(result.content)"
   ]
  }
 ],
 "metadata": {
  "kernelspec": {
   "display_name": "venv",
   "language": "python",
   "name": "python3"
  },
  "language_info": {
   "codemirror_mode": {
    "name": "ipython",
    "version": 3
   },
   "file_extension": ".py",
   "mimetype": "text/x-python",
   "name": "python",
   "nbconvert_exporter": "python",
   "pygments_lexer": "ipython3",
   "version": "3.11.5"
  }
 },
 "nbformat": 4,
 "nbformat_minor": 5
}
