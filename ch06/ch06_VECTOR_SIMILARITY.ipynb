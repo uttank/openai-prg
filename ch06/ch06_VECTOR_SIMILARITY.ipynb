{
 "cells": [
  {
   "cell_type": "code",
   "execution_count": 1,
   "id": "cc89d5a4",
   "metadata": {},
   "outputs": [
    {
     "name": "stdout",
     "output_type": "stream",
     "text": [
      "Cosine similarity between vec1 and vec2: 0.6666666666666667\n",
      "Cosine similarity between vec1 and vec3: 0.6666666666666667\n",
      "Cosine similarity between vec2 and vec3: 1.0000000000000002\n"
     ]
    }
   ],
   "source": [
    "import numpy as np\n",
    "from numpy import dot\n",
    "from numpy.linalg import norm\n",
    "\n",
    "def cosine_similarity(a, b):\n",
    "    \"\"\"\n",
    "    Compute the cosine similarity between two vectors.\n",
    "    \n",
    "    Parameters:\n",
    "    a (array-like): First vector.\n",
    "    b (array-like): Second vector.\n",
    "    \n",
    "    Returns:\n",
    "    float: Cosine similarity between the two vectors.\n",
    "    \"\"\"\n",
    "    if norm(a) == 0 or norm(b) == 0:\n",
    "        return 0.0\n",
    "    return dot(a, b) / (norm(a) * norm(b))\n",
    "\n",
    "vec1 = np.array([0, 1, 1, 1])\n",
    "vec2 = np.array([1, 0, 1, 1])\n",
    "vec3 = np.array([2, 0, 2, 2])\n",
    "\n",
    "print(\"Cosine similarity between vec1 and vec2:\", cosine_similarity(vec1, vec2))\n",
    "print(\"Cosine similarity between vec1 and vec3:\", cosine_similarity(vec1, vec3))\n",
    "print(\"Cosine similarity between vec2 and vec3:\", cosine_similarity(vec2, vec3))\n",
    "\n"
   ]
  }
 ],
 "metadata": {
  "kernelspec": {
   "display_name": "venv",
   "language": "python",
   "name": "python3"
  },
  "language_info": {
   "codemirror_mode": {
    "name": "ipython",
    "version": 3
   },
   "file_extension": ".py",
   "mimetype": "text/x-python",
   "name": "python",
   "nbconvert_exporter": "python",
   "pygments_lexer": "ipython3",
   "version": "3.11.5"
  }
 },
 "nbformat": 4,
 "nbformat_minor": 5
}
